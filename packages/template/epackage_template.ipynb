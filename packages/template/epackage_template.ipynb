{
 "cells": [
  {
   "cell_type": "markdown",
   "metadata": {},
   "source": [
    "# Climate change challenge\n",
    "\n",
    "Some explanation here."
   ]
  },
  {
   "cell_type": "markdown",
   "metadata": {},
   "source": [
    "# Geophysics used\n",
    "\n",
    "Some explanation here."
   ]
  },
  {
   "cell_type": "markdown",
   "metadata": {},
   "source": [
    "# Showcase\n",
    "\n",
    "Some explanation here."
   ]
  },
  {
   "cell_type": "code",
   "execution_count": 26,
   "metadata": {},
   "outputs": [
    {
     "data": {
      "image/png": "[encoded data removed]",
      "text/plain": [
       "<matplotlib.figure.Figure at 0x10ab98ef0>"
      ]
     },
     "metadata": {},
     "output_type": "display_data"
    }
   ],
   "source": [
    "import matplotlib.pyplot as plt\n",
    "import numpy as np\n",
    "\n",
    "data = np.random.random((10,10));\n",
    "\n",
    "fig = plt.figure(1);\n",
    "plt.subplot(1,3,1)\n",
    "plt.imshow(data);\n",
    "plt.title(r'$\\alpha_i > \\beta_i$')\n",
    "plt.xlabel('time $(s)$')\n",
    "plt.ylabel('volts $(mV)$')\n",
    "\n",
    "plt.subplot(1,3,3)\n",
    "plt.plot(data[0:4,1],data[0:4,2],'ro-',label='some points')\n",
    "plt.legend()\n",
    "plt.title(r'some title $\\alpha_i > \\beta_i$')\n",
    "plt.xlabel('time $(s)$')\n",
    "plt.ylabel('volts $(mV)$')\n",
    "plt.gca().set_aspect('equal', adjustable='box')\n",
    "plt.show();"
   ]
  },
  {
   "cell_type": "code",
   "execution_count": null,
   "metadata": {
    "collapsed": true
   },
   "outputs": [],
   "source": []
  }
 ],
 "metadata": {
  "kernelspec": {
   "display_name": "Python 3",
   "language": "python",
   "name": "python3"
  },
  "language_info": {
   "codemirror_mode": {
    "name": "ipython",
    "version": 3
   },
   "file_extension": ".py",
   "mimetype": "text/x-python",
   "name": "python",
   "nbconvert_exporter": "python",
   "pygments_lexer": "ipython3",
   "version": "3.6.8"
  }
 },
 "nbformat": 4,
 "nbformat_minor": 2
}
